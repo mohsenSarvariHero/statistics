{
  "nbformat": 4,
  "nbformat_minor": 0,
  "metadata": {
    "colab": {
      "provenance": [],
      "authorship_tag": "ABX9TyMV7t9d0GoqlE4+Ml5Lj5Jc",
      "include_colab_link": true
    },
    "kernelspec": {
      "name": "python3",
      "display_name": "Python 3"
    },
    "language_info": {
      "name": "python"
    }
  },
  "cells": [
    {
      "cell_type": "markdown",
      "metadata": {
        "id": "view-in-github",
        "colab_type": "text"
      },
      "source": [
        "<a href=\"https://colab.research.google.com/github/mohsenSarvariHero/statistics/blob/main/Untitled29.ipynb\" target=\"_parent\"><img src=\"https://colab.research.google.com/assets/colab-badge.svg\" alt=\"Open In Colab\"/></a>"
      ]
    },
    {
      "cell_type": "code",
      "execution_count": 10,
      "metadata": {
        "colab": {
          "base_uri": "https://localhost:8080/",
          "height": 547
        },
        "id": "KK3RRtzdWhBf",
        "outputId": "2a689b82-75f6-4b70-f2f0-eec7527ee434"
      },
      "outputs": [
        {
          "output_type": "error",
          "ename": "KeyError",
          "evalue": "'C'",
          "traceback": [
            "\u001b[0;31m---------------------------------------------------------------------------\u001b[0m",
            "\u001b[0;31mKeyError\u001b[0m                                  Traceback (most recent call last)",
            "\u001b[0;32m/usr/local/lib/python3.11/dist-packages/pandas/core/indexes/base.py\u001b[0m in \u001b[0;36mget_loc\u001b[0;34m(self, key)\u001b[0m\n\u001b[1;32m   3804\u001b[0m         \u001b[0;32mtry\u001b[0m\u001b[0;34m:\u001b[0m\u001b[0;34m\u001b[0m\u001b[0;34m\u001b[0m\u001b[0m\n\u001b[0;32m-> 3805\u001b[0;31m             \u001b[0;32mreturn\u001b[0m \u001b[0mself\u001b[0m\u001b[0;34m.\u001b[0m\u001b[0m_engine\u001b[0m\u001b[0;34m.\u001b[0m\u001b[0mget_loc\u001b[0m\u001b[0;34m(\u001b[0m\u001b[0mcasted_key\u001b[0m\u001b[0;34m)\u001b[0m\u001b[0;34m\u001b[0m\u001b[0;34m\u001b[0m\u001b[0m\n\u001b[0m\u001b[1;32m   3806\u001b[0m         \u001b[0;32mexcept\u001b[0m \u001b[0mKeyError\u001b[0m \u001b[0;32mas\u001b[0m \u001b[0merr\u001b[0m\u001b[0;34m:\u001b[0m\u001b[0;34m\u001b[0m\u001b[0;34m\u001b[0m\u001b[0m\n",
            "\u001b[0;32mindex.pyx\u001b[0m in \u001b[0;36mpandas._libs.index.IndexEngine.get_loc\u001b[0;34m()\u001b[0m\n",
            "\u001b[0;32mindex.pyx\u001b[0m in \u001b[0;36mpandas._libs.index.IndexEngine.get_loc\u001b[0;34m()\u001b[0m\n",
            "\u001b[0;32mpandas/_libs/hashtable_class_helper.pxi\u001b[0m in \u001b[0;36mpandas._libs.hashtable.PyObjectHashTable.get_item\u001b[0;34m()\u001b[0m\n",
            "\u001b[0;32mpandas/_libs/hashtable_class_helper.pxi\u001b[0m in \u001b[0;36mpandas._libs.hashtable.PyObjectHashTable.get_item\u001b[0;34m()\u001b[0m\n",
            "\u001b[0;31mKeyError\u001b[0m: 'C'",
            "\nThe above exception was the direct cause of the following exception:\n",
            "\u001b[0;31mKeyError\u001b[0m                                  Traceback (most recent call last)",
            "\u001b[0;32m<ipython-input-10-b9dd2ea3152b>\u001b[0m in \u001b[0;36m<cell line: 0>\u001b[0;34m()\u001b[0m\n\u001b[1;32m     15\u001b[0m \u001b[0;34m\u001b[0m\u001b[0m\n\u001b[1;32m     16\u001b[0m \u001b[0;31m# انتخاب ستون M\u001b[0m\u001b[0;34m\u001b[0m\u001b[0;34m\u001b[0m\u001b[0m\n\u001b[0;32m---> 17\u001b[0;31m \u001b[0mdf\u001b[0m\u001b[0;34m[\u001b[0m\u001b[0;34m\"C\"\u001b[0m\u001b[0;34m]\u001b[0m \u001b[0;34m=\u001b[0m \u001b[0mdf\u001b[0m\u001b[0;34m[\u001b[0m\u001b[0;34m\"C\"\u001b[0m\u001b[0;34m]\u001b[0m\u001b[0;34m.\u001b[0m\u001b[0mapply\u001b[0m\u001b[0;34m(\u001b[0m\u001b[0mtext_to_number\u001b[0m\u001b[0;34m)\u001b[0m\u001b[0;34m\u001b[0m\u001b[0;34m\u001b[0m\u001b[0m\n\u001b[0m\u001b[1;32m     18\u001b[0m \u001b[0;34m\u001b[0m\u001b[0m\n\u001b[1;32m     19\u001b[0m \u001b[0;31m# حذف مقادیر نامعتبر\u001b[0m\u001b[0;34m\u001b[0m\u001b[0;34m\u001b[0m\u001b[0m\n",
            "\u001b[0;32m/usr/local/lib/python3.11/dist-packages/pandas/core/frame.py\u001b[0m in \u001b[0;36m__getitem__\u001b[0;34m(self, key)\u001b[0m\n\u001b[1;32m   4100\u001b[0m             \u001b[0;32mif\u001b[0m \u001b[0mself\u001b[0m\u001b[0;34m.\u001b[0m\u001b[0mcolumns\u001b[0m\u001b[0;34m.\u001b[0m\u001b[0mnlevels\u001b[0m \u001b[0;34m>\u001b[0m \u001b[0;36m1\u001b[0m\u001b[0;34m:\u001b[0m\u001b[0;34m\u001b[0m\u001b[0;34m\u001b[0m\u001b[0m\n\u001b[1;32m   4101\u001b[0m                 \u001b[0;32mreturn\u001b[0m \u001b[0mself\u001b[0m\u001b[0;34m.\u001b[0m\u001b[0m_getitem_multilevel\u001b[0m\u001b[0;34m(\u001b[0m\u001b[0mkey\u001b[0m\u001b[0;34m)\u001b[0m\u001b[0;34m\u001b[0m\u001b[0;34m\u001b[0m\u001b[0m\n\u001b[0;32m-> 4102\u001b[0;31m             \u001b[0mindexer\u001b[0m \u001b[0;34m=\u001b[0m \u001b[0mself\u001b[0m\u001b[0;34m.\u001b[0m\u001b[0mcolumns\u001b[0m\u001b[0;34m.\u001b[0m\u001b[0mget_loc\u001b[0m\u001b[0;34m(\u001b[0m\u001b[0mkey\u001b[0m\u001b[0;34m)\u001b[0m\u001b[0;34m\u001b[0m\u001b[0;34m\u001b[0m\u001b[0m\n\u001b[0m\u001b[1;32m   4103\u001b[0m             \u001b[0;32mif\u001b[0m \u001b[0mis_integer\u001b[0m\u001b[0;34m(\u001b[0m\u001b[0mindexer\u001b[0m\u001b[0;34m)\u001b[0m\u001b[0;34m:\u001b[0m\u001b[0;34m\u001b[0m\u001b[0;34m\u001b[0m\u001b[0m\n\u001b[1;32m   4104\u001b[0m                 \u001b[0mindexer\u001b[0m \u001b[0;34m=\u001b[0m \u001b[0;34m[\u001b[0m\u001b[0mindexer\u001b[0m\u001b[0;34m]\u001b[0m\u001b[0;34m\u001b[0m\u001b[0;34m\u001b[0m\u001b[0m\n",
            "\u001b[0;32m/usr/local/lib/python3.11/dist-packages/pandas/core/indexes/base.py\u001b[0m in \u001b[0;36mget_loc\u001b[0;34m(self, key)\u001b[0m\n\u001b[1;32m   3810\u001b[0m             ):\n\u001b[1;32m   3811\u001b[0m                 \u001b[0;32mraise\u001b[0m \u001b[0mInvalidIndexError\u001b[0m\u001b[0;34m(\u001b[0m\u001b[0mkey\u001b[0m\u001b[0;34m)\u001b[0m\u001b[0;34m\u001b[0m\u001b[0;34m\u001b[0m\u001b[0m\n\u001b[0;32m-> 3812\u001b[0;31m             \u001b[0;32mraise\u001b[0m \u001b[0mKeyError\u001b[0m\u001b[0;34m(\u001b[0m\u001b[0mkey\u001b[0m\u001b[0;34m)\u001b[0m \u001b[0;32mfrom\u001b[0m \u001b[0merr\u001b[0m\u001b[0;34m\u001b[0m\u001b[0;34m\u001b[0m\u001b[0m\n\u001b[0m\u001b[1;32m   3813\u001b[0m         \u001b[0;32mexcept\u001b[0m \u001b[0mTypeError\u001b[0m\u001b[0;34m:\u001b[0m\u001b[0;34m\u001b[0m\u001b[0;34m\u001b[0m\u001b[0m\n\u001b[1;32m   3814\u001b[0m             \u001b[0;31m# If we have a listlike key, _check_indexing_error will raise\u001b[0m\u001b[0;34m\u001b[0m\u001b[0;34m\u001b[0m\u001b[0m\n",
            "\u001b[0;31mKeyError\u001b[0m: 'C'"
          ]
        }
      ],
      "source": [
        "import pandas as pd\n",
        "\n",
        "# خواندن فایل اکسل\n",
        "file_path = \"pajohesh.xlsx\"  # مسیر فایل را تغییر دهید\n",
        "df = pd.read_excel(file_path)\n",
        "\n",
        "# تبدیل مقادیر متنی به عدد\n",
        "def text_to_number(value):\n",
        "    if value == \"زن\":\n",
        "        return 5\n",
        "    elif value == \"مرد\":\n",
        "        return 3\n",
        "    else:\n",
        "        return None  # مقدارهای نامعتبر را نادیده بگیرد\n",
        "\n",
        "# انتخاب ستون M\n",
        "df[\"جنسیت\"] = df[\"جنسیت\"].apply(text_to_number)\n",
        "\n",
        "# حذف مقادیر نامعتبر\n",
        "df = df.dropna()\n",
        "\n",
        "# ذخیره فایل اکسل جدید\n",
        "df.to_excel(\"updated_file52.xlsx\", index=False)\n"
      ]
    },
    {
      "cell_type": "code",
      "source": [
        "import pandas as pd\n",
        "\n",
        "# خواندن فایل اکسل\n",
        "file_path = \"pajohesh.xlsx\"\n",
        "\n",
        "try:\n",
        "    df = pd.read_excel(file_path)\n",
        "except FileNotFoundError:\n",
        "    print(\"خطا: فایل موردنظر پیدا نشد.\")\n",
        "    exit()\n",
        "except Exception as e:\n",
        "    print(f\"خطا در خواندن فایل: {e}\")\n",
        "    exit()\n",
        "\n",
        "# بررسی وجود ستون \"جنسیت\"\n",
        "if \"جنسیت\" not in df.columns:\n",
        "    print(\"خطا: ستون 'جنسیت' در فایل اکسل وجود ندارد.\")\n",
        "    exit()\n",
        "\n",
        "# تبدیل مقادیر متنی به عدد\n",
        "def text_to_number(value):\n",
        "    mapping = {\"زن\": 5, \"مرد\": 3}\n",
        "    return mapping.get(value, None)  # مقدار نامعتبر را None قرار می‌دهد\n",
        "\n",
        "df[\"جنسیت\"] = df[\"جنسیت\"].apply(text_to_number)\n",
        "\n",
        "# حذف مقادیر نامعتبر\n",
        "df.dropna(subset=[\"جنسیت\"], inplace=True)\n",
        "\n",
        "# ذخیره فایل اکسل جدید\n",
        "output_file = \"updated_file5ب2.xlsx\"\n",
        "df.to_excel(output_file, index=False)\n",
        "\n",
        "print(f\"فایل جدید با نام '{output_file}' ذخیره شد.\")\n"
      ],
      "metadata": {
        "colab": {
          "base_uri": "https://localhost:8080/"
        },
        "id": "hw-xXaHyZ4Mq",
        "outputId": "59d7d30f-9bbf-469c-806a-5b61b47d822f"
      },
      "execution_count": 12,
      "outputs": [
        {
          "output_type": "stream",
          "name": "stdout",
          "text": [
            "فایل جدید با نام 'updated_file5ب2.xlsx' ذخیره شد.\n"
          ]
        }
      ]
    },
    {
      "cell_type": "code",
      "source": [
        "import pandas as pd\n",
        "\n",
        "# خواندن فایل اکسل\n",
        "file_path = \"pajohesh.xlsx\"\n",
        "\n",
        "try:\n",
        "    df = pd.read_excel(file_path)\n",
        "except FileNotFoundError:\n",
        "    print(\"خطا: فایل موردنظر پیدا نشد.\")\n",
        "    exit()\n",
        "except Exception as e:\n",
        "    print(f\"خطا در خواندن فایل: {e}\")\n",
        "    exit()\n",
        "\n",
        "# بررسی وجود ستون \"جنسیت\"\n",
        "if \"جنسیت\" not in df.columns:\n",
        "    print(\"خطا: ستون 'جنسیت' در فایل اکسل وجود ندارد.\")\n",
        "    exit()\n",
        "\n",
        "# تبدیل مقادیر متنی به عدد\n",
        "def text_to_number(value):\n",
        "    mapping = {\"خیلی زیاد\": 5, \"تا حدودی\": 3}\n",
        "    return mapping.get(value, None)  # مقدار نامعتبر را None قرار می‌دهد\n",
        "\n",
        "df[\"۱_ به خاطرعمل نکردن به شاخص های اخلاقی خودم احساس گناه میکنم‌.\"] = df[\"۱_ به خاطرعمل نکردن به شاخص های اخلاقی خودم احساس گناه میکنم‌.\"].apply(text_to_number)\n",
        "\n",
        "# حذف مقادیر نامعتبر\n",
        "df.dropna(subset=[\"۱_ به خاطرعمل نکردن به شاخص های اخلاقی خودم احساس گناه میکنم‌.\"], inplace=True)\n",
        "\n",
        "# ذخیره فایل اکسل جدید\n",
        "output_file = \"updated_fileی5ب2.xlsx\"\n",
        "df.to_excel(output_file, index=False)\n",
        "\n",
        "print(f\"فایل جدید با نام '{output_file}' ذخیره شد.\")\n",
        "\n"
      ],
      "metadata": {
        "colab": {
          "base_uri": "https://localhost:8080/"
        },
        "id": "WWilIf0XaKlS",
        "outputId": "79147af0-8239-4844-d7d5-a4d7c1164669"
      },
      "execution_count": 13,
      "outputs": [
        {
          "output_type": "stream",
          "name": "stdout",
          "text": [
            "فایل جدید با نام 'updated_fileی5ب2.xlsx' ذخیره شد.\n"
          ]
        }
      ]
    }
  ]
}